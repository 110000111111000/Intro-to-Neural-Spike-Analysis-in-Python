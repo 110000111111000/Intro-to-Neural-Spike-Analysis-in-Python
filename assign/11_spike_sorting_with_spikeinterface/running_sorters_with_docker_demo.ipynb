{
  "cells": [
    {
      "cell_type": "markdown",
      "metadata": {},
      "source": [
        "# Running Sorters with Docker (Demo)"
      ],
      "id": "1b7dc7a0-333e-4822-be20-56233ecd9a43"
    },
    {
      "cell_type": "code",
      "execution_count": 2,
      "metadata": {},
      "outputs": [],
      "source": [
        "import spikeinterface.full as si\n",
        "import probeinterface as pi"
      ],
      "id": "5bcfb59c"
    },
    {
      "cell_type": "markdown",
      "metadata": {},
      "source": [
        "Check which sorters are installed and which ones are available"
      ],
      "id": "d14eef25-2284-4979-a00c-b49105be07ab"
    },
    {
      "cell_type": "code",
      "execution_count": 3,
      "metadata": {},
      "outputs": [
        {
          "output_type": "stream",
          "name": "stdout",
          "text": [
            "Installed sorters: ['simple', 'spykingcircus2', 'tridesclous2']\n",
            "Available sorters: ['combinato', 'hdsort', 'herdingspikes', 'ironclust', 'kilosort', 'kilosort2', 'kilosort2_5', 'kilosort3', 'kilosort4', 'klusta', 'mountainsort4', 'mountainsort5', 'pykilosort', 'simple', 'spykingcircus', 'spykingcircus2', 'tridesclous', 'tridesclous2', 'waveclus', 'waveclus_snippets', 'yass']"
          ]
        }
      ],
      "source": [
        "print(\"Installed sorters:\", si.installed_sorters())\n",
        "print(\"Available sorters:\", si.available_sorters())"
      ],
      "id": "578c9dfb"
    },
    {
      "cell_type": "markdown",
      "metadata": {},
      "source": [
        "Load the data and add probe information"
      ],
      "id": "56cbe01b-8e1b-45f9-8cb9-ce69b32c971b"
    },
    {
      "cell_type": "code",
      "execution_count": 4,
      "metadata": {},
      "outputs": [],
      "source": [
        "data_dir = \"openephys_recording/2023-08-23_15-56-05\"\n",
        "rec = si.read_openephys(data_dir, stream_id=\"0\")\n",
        "probe = pi.get_probe(\"cambridgeneurotech\", \"ASSY-236-H5\")\n",
        "probe.wiring_to_device(\"cambridgeneurotech_mini-amp-64\")\n",
        "rec = rec.set_probe(probe)"
      ],
      "id": "fd1684dc"
    },
    {
      "cell_type": "markdown",
      "metadata": {},
      "source": [
        "Make sure docker is installed"
      ],
      "id": "2000ddc4-517b-4c3f-84ff-b6958dedbf6e"
    },
    {
      "cell_type": "code",
      "execution_count": 5,
      "metadata": {},
      "outputs": [
        {
          "output_type": "stream",
          "name": "stdout",
          "text": [
            "Docker version 28.1.1, build 4eba377"
          ]
        }
      ],
      "source": [
        "!docker --version"
      ],
      "id": "e46fb78f"
    },
    {
      "cell_type": "markdown",
      "metadata": {},
      "source": [
        "Select a short segment for demo purpose."
      ],
      "id": "7150e5b5-986c-4150-a265-a64f111f3447"
    },
    {
      "cell_type": "code",
      "execution_count": 6,
      "metadata": {},
      "outputs": [],
      "source": [
        "t_start = 0\n",
        "t_stop = 10\n",
        "fs = rec.get_sampling_frequency()\n",
        "seg = rec.frame_slice(start_frame=t_start * fs, end_frame=t_stop * fs)"
      ],
      "id": "4422ba39"
    },
    {
      "cell_type": "markdown",
      "metadata": {},
      "source": [
        "Running `\"kilosort4\"` will throw an error, because it is not installed"
      ],
      "id": "76700c0f-d252-46c0-abb2-ed809e9adae3"
    },
    {
      "cell_type": "code",
      "execution_count": 7,
      "metadata": {},
      "outputs": [],
      "source": [
        "sorting_KS4 = si.run_sorter(\n",
        "    sorter_name=\"tridesclous2\",\n",
        "    recording=rec,\n",
        "    folder=\"results_TDC\",\n",
        "    remove_existing_folder=True,\n",
        ")"
      ],
      "id": "9113e0c4"
    },
    {
      "cell_type": "markdown",
      "metadata": {},
      "source": [
        "However, by setting `docker_image=True`, we can allow the `run_sorter()`\n",
        "function to download a docker image from the SpikeInterface library and\n",
        "run the sorter inside the cotainer."
      ],
      "id": "f5be8d34-ab0e-4806-a5eb-ba37a7e2d402"
    },
    {
      "cell_type": "code",
      "execution_count": 8,
      "metadata": {},
      "outputs": [],
      "source": [
        "sorting_KS4 = si.run_sorter(\n",
        "    sorter_name=\"kilosort4\",\n",
        "    recording=rec,\n",
        "    folder=\"results_KS4\",\n",
        "    docker_image=True,\n",
        "    delete_container_files=False,\n",
        ")"
      ],
      "id": "c2f1dede"
    }
  ],
  "nbformat": 4,
  "nbformat_minor": 5,
  "metadata": {
    "kernelspec": {
      "name": "python3",
      "display_name": "Python 3 (ipykernel)",
      "language": "python",
      "path": "/home/olebi/courses/Intro-to-Neural-Spike-Analysis-in-Python/.pixi/envs/render/share/jupyter/kernels/python3"
    },
    "language_info": {
      "name": "python",
      "codemirror_mode": {
        "name": "ipython",
        "version": "3"
      },
      "file_extension": ".py",
      "mimetype": "text/x-python",
      "nbconvert_exporter": "python",
      "pygments_lexer": "ipython3",
      "version": "3.12.10"
    }
  }
}