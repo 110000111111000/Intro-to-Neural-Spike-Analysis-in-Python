{
  "cells": [
    {
      "cell_type": "markdown",
      "id": "d228ea72-50df-4c08-aadb-3b50fe2c195f",
      "metadata": {},
      "source": [
        "# Estimating and Modeling Receptive Field Maps\n",
        "\n",
        "## 1 Preparation\n",
        "\n",
        "Import the modules required for this notebook"
      ]
    },
    {
      "cell_type": "code",
      "execution_count": 1,
      "id": "185f1019",
      "metadata": {},
      "outputs": [],
      "source": [
        "import numpy as np\n",
        "import matplotlib.pyplot as plt\n",
        "import pandas as pd\n",
        "from matplotlib.patches import Ellipse\n",
        "from scipy.ndimage import gaussian_filter\n",
        "from scipy.optimize import curve_fit\n",
        "import scipy.ndimage as ndi\n",
        "from scipy import stats\n",
        "import seaborn as sns"
      ]
    },
    {
      "cell_type": "markdown",
      "id": "4c13c200-e89b-491b-b4fa-97fad74a360e",
      "metadata": {},
      "source": [
        "Download the data required for this notebook"
      ]
    },
    {
      "cell_type": "code",
      "execution_count": 2,
      "id": "77b84b6b",
      "metadata": {},
      "outputs": [],
      "source": [
        "import requests\n",
        "\n",
        "url = \"https://uni-bonn.sciebo.de/s/Smx83PH5Wgf7mDe\"\n",
        "fname = \"gabor_spikes.parquet\"\n",
        "response = requests.get(f\"{url}/download\")\n",
        "print(\"Downloading Data ...\")\n",
        "with open(fname, \"wb\") as file:\n",
        "    file.write(response.content)\n",
        "print(\"Done!\")"
      ]
    },
    {
      "cell_type": "markdown",
      "id": "7295ea75-c958-496c-8f73-cf6397eb1f85",
      "metadata": {},
      "source": [
        "Define the functions required for this notebook"
      ]
    },
    {
      "cell_type": "code",
      "execution_count": 3,
      "id": "56268a94",
      "metadata": {},
      "outputs": [],
      "source": [
        "class utils:\n",
        "    def gaussian_2d(xy, b, x0, y0, s_x, s_y, a):\n",
        "        x, y = xy\n",
        "        gaussian = (\n",
        "            b * np.exp(-((x - x0) ** 2 / (2 * s_x**2) + (y - y0) ** 2 / (2 * s_y**2)))\n",
        "            + a\n",
        "        )\n",
        "        return gaussian\n",
        "\n",
        "    def fit_gaussian_2d(rf):\n",
        "\n",
        "        rf[:] = ndi.gaussian_filter(rf, sigma=1)\n",
        "        x = rf.columns.astype(float).values\n",
        "        y = rf.index.astype(float).values\n",
        "        Z = rf.values\n",
        "        X, Y = np.meshgrid(x, y)\n",
        "        xy = np.vstack((X.ravel(), Y.ravel()))  # shape = (2, N)\n",
        "        z = Z.ravel()\n",
        "        # initia guesses\n",
        "        max_w = 80\n",
        "        lb = [0, x.min(), y.min(), 1e-2, 1e-2, -np.inf]\n",
        "        ub = [np.inf, x.max(), y.max(), max_w, max_w, np.inf]\n",
        "\n",
        "        # simple initial guess:\n",
        "        if z.sum() <= 0:  # no signal (all zeros or negative)\n",
        "            idx = np.argmax(z)\n",
        "            yi, xi = np.unravel_index(idx, rf.shape)\n",
        "            x0 = X[yi, xi]  # peak in x\n",
        "            y0 = Y[yi, xi]  # peak in y\n",
        "        else:\n",
        "            x0 = np.sum(X * rf.values) / z.sum()  # center-of-mass in x\n",
        "            y0 = np.sum(Y * rf.values) / z.sum()  # center-of-mass in y\n",
        "        b0 = z.max() - z.min()  # amplitude\n",
        "        a0 = z.min()  # offset (baseline)\n",
        "        s0 = max((x.ptp(), y.ptp())) / 4.0  # rough width\n",
        "        p0 = [b0, x0, y0, s0, s0, a0]\n",
        "\n",
        "        popt, pcov = curve_fit(utils.gaussian_2d, xy, z, p0=p0, bounds=(lb, ub))\n",
        "        return popt, xy\n",
        "\n",
        "    def r_squared(y, y_fit):\n",
        "        y = y.to_numpy().flatten()\n",
        "        y_fit = y_fit.flatten()\n",
        "        ss_res = np.sum((y - y_fit) ** 2)\n",
        "        ss_tot = np.sum((y - np.mean(y_fit)) ** 2)\n",
        "        r2 = 1 - (ss_res / ss_tot)\n",
        "        if r2 < 0:\n",
        "            r2 = 0\n",
        "        return r2\n",
        "\n",
        "    def get_rf_outline(popt, sigma=1):\n",
        "        x0, y0, sigma_x, sigma_y = popt[1:5]\n",
        "        theta = np.linspace(0, 2 * np.pi, 100)\n",
        "        x = x0 + sigma * sigma_x * np.cos(theta)\n",
        "        y = y0 + sigma * sigma_y * np.sin(theta)\n",
        "        return x, y"
      ]
    },
    {
      "cell_type": "markdown",
      "id": "2795cc5f-f798-41ea-aefb-fa05cf893f00",
      "metadata": {},
      "source": [
        "## 2 Computing and Visualizing Receptive Field Maps\n",
        "\n",
        "Many sensory systems, such as vision, somatosensation and audition\n",
        "exhibit perceptual maps where neurons respond to specific regions of the\n",
        "perceptual space - in vision this is literally the patch of the visual\n",
        "field; in audition it’s a band of frequencies; in somatosensation it’s a\n",
        "patch of skin. The fraction of perceptual space to which a neuron\n",
        "responds is the neuron’s receptive field. One can map a neuron’s\n",
        "receptive field by recordings its responses while sampling the\n",
        "perceptual space. In this section, we are going to explore how to\n",
        "compute receptive field maps for visual neurons. We are going to use\n",
        "recordings from a mouse that was presented with gabor patches - simple\n",
        "visual gratings, presented at a specific location with a specific\n",
        "orientation. By counting the number of spikes elicited by a Gabor patch\n",
        "at every position, we can estimate a receptive field map that reveals\n",
        "the patch of the visual field the neurons responds to.\n",
        "\n",
        "| Code | Description |\n",
        "|------------------------------------|------------------------------------|\n",
        "| `df = pdf.read_parquet(mydata.parquet)` | Read the file `\"mydata.parquet\"` into a data frame `df` |\n",
        "| `df[\"col1\"].unique()` | Get the `.unique()` values in column `\"col1\"` |\n",
        "| `df.groupby([\"col1\", \"col2\"]).size().unstack()` | Group `df` by `\"col1\"` and `\"col2\"`, get the number of rows for each grouping and pivot the table so that the inner most index becomes a new set of columns |\n",
        "| `sns.heatmap(df)` | Plot the data frame `df` as a heatmap |\n",
        "| `sns.heatmap(df, cmap=\"jet\")` | Plot a heatmap of `df` using the `\"jet\"` colormap |\n",
        "| `ndi.zoom(x, zoom=5)` | Upscale the image `x` by a factor of `5` |\n",
        "| `ndi.gaussian_filter(x, sigma=1)` | Apply a `gaussian_filter` with standard deviation `sigma=1` to the image `x` |\n",
        "\n",
        "------------------------------------------------------------------------\n",
        "\n",
        "<span class=\"theorem-title\">**Exercise 1**</span> Load the data stored\n",
        "in `\"gabor_spikes.parquet\"` into a pandas data frame."
      ]
    },
    {
      "cell_type": "code",
      "execution_count": 5,
      "id": "077b8619",
      "metadata": {},
      "outputs": [
        {
          "name": "stdout",
          "output_type": "stream",
          "text": [
            "​"
          ]
        }
      ],
      "source": []
    },
    {
      "cell_type": "markdown",
      "id": "f95cd488-3c2d-4786-97e2-eff9789e5e76",
      "metadata": {},
      "source": [
        "<span class=\"theorem-title\">**Exercise 2**</span> What are the different\n",
        "values for `\"x_position\"`, `\"y_position\"` and `\"orientation\"` in the\n",
        "data?"
      ]
    },
    {
      "cell_type": "code",
      "execution_count": 7,
      "id": "f389dd8d",
      "metadata": {},
      "outputs": [
        {
          "name": "stdout",
          "output_type": "stream",
          "text": [
            "​"
          ]
        }
      ],
      "source": []
    },
    {
      "cell_type": "markdown",
      "id": "5e204c92-49dd-4c20-b3fa-c392348b178c",
      "metadata": {},
      "source": [
        "<span class=\"theorem-title\">**Example 1**</span> Compute the average\n",
        "receptive field map `rf` for the whole recording by grouping the data by\n",
        "`\"x_position\"` and `\"y_position\"`, getting the `.size()` an\n",
        "`.unstack()`ing the result to get a 2D grid."
      ]
    },
    {
      "cell_type": "code",
      "execution_count": 8,
      "id": "4c8c91e2",
      "metadata": {},
      "outputs": [
        {
          "data": {
            "text/html": [
              "\n",
              "</div>"
            ]
          },
          "metadata": {},
          "output_type": "display_data"
        }
      ],
      "source": [
        "rf = df.groupby([\"y_position\", \"x_position\"]).size().unstack()\n",
        "rf"
      ]
    },
    {
      "cell_type": "markdown",
      "id": "6948b83c-5736-48a1-927c-88dc153950b4",
      "metadata": {},
      "source": [
        "<span class=\"theorem-title\">**Exercise 3**</span> Plot the receptive\n",
        "field `rf` with `sns.heatmap`."
      ]
    },
    {
      "cell_type": "code",
      "execution_count": 10,
      "id": "d94da6be",
      "metadata": {},
      "outputs": [
        {
          "name": "stdout",
          "output_type": "stream",
          "text": [
            "​"
          ]
        }
      ],
      "source": []
    },
    {
      "cell_type": "markdown",
      "id": "dfa805e8-dbf8-4560-8da2-b34fe058141d",
      "metadata": {},
      "source": [
        "<span class=\"theorem-title\">**Exercise 4**</span> Plot the receptive\n",
        "field map for unit `951028431`."
      ]
    },
    {
      "cell_type": "code",
      "execution_count": 12,
      "id": "7c4b5e8f",
      "metadata": {},
      "outputs": [
        {
          "name": "stdout",
          "output_type": "stream",
          "text": [
            "​"
          ]
        }
      ],
      "source": []
    },
    {
      "cell_type": "markdown",
      "id": "c9214cf3-e391-43a1-809b-e949fb4f59be",
      "metadata": {},
      "source": [
        "<span class=\"theorem-title\">**Exercise 5**</span> Plot the receptive\n",
        "field map for unit `951027930`."
      ]
    },
    {
      "cell_type": "code",
      "execution_count": 14,
      "id": "ebb9b011",
      "metadata": {},
      "outputs": [
        {
          "name": "stdout",
          "output_type": "stream",
          "text": [
            "​"
          ]
        }
      ],
      "source": []
    },
    {
      "cell_type": "markdown",
      "id": "b28fe6f2-6dff-430e-b253-f8dc9e1f2ab0",
      "metadata": {},
      "source": [
        "<span class=\"theorem-title\">**Example 2**</span> Use `ndi.zoom` to\n",
        "upscale the receptive field map by a factor of `zoom=5` and then use\n",
        "`ndi.gaussian_filter` to smooth the image."
      ]
    },
    {
      "cell_type": "code",
      "execution_count": 15,
      "id": "efd3460a",
      "metadata": {},
      "outputs": [
        {
          "data": {
            "image/png": "[encoded data removed]"
          },
          "metadata": {},
          "output_type": "display_data"
        }
      ],
      "source": [
        "rf_interp = ndi.gaussian_filter(ndi.zoom(rf, zoom=5), sigma=5)\n",
        "sns.heatmap(rf_interp)"
      ]
    },
    {
      "cell_type": "markdown",
      "id": "6655edef-fa87-4baa-a698-a9c2dc5a297c",
      "metadata": {},
      "source": [
        "<span class=\"theorem-title\">**Exercise 6**</span> Re-create the plot\n",
        "above with `sigma=5`."
      ]
    },
    {
      "cell_type": "code",
      "execution_count": 17,
      "id": "422e18af",
      "metadata": {},
      "outputs": [
        {
          "name": "stdout",
          "output_type": "stream",
          "text": [
            "​"
          ]
        }
      ],
      "source": []
    },
    {
      "cell_type": "markdown",
      "id": "3cf7c2d0-0dde-44df-b6d7-43e159a9fa14",
      "metadata": {},
      "source": [
        "<span class=\"theorem-title\">**Exercise 7**</span> Re-create the plot\n",
        "above with `zoom=10` and `sigma=10`. What are the advantages and\n",
        "downsides of applying upscaling and smoothing?"
      ]
    },
    {
      "cell_type": "code",
      "execution_count": 19,
      "id": "97791e74",
      "metadata": {},
      "outputs": [
        {
          "name": "stdout",
          "output_type": "stream",
          "text": [
            "​"
          ]
        }
      ],
      "source": []
    },
    {
      "cell_type": "markdown",
      "id": "9155eb8b-ae16-42f5-8e59-ca0aa8a6daa9",
      "metadata": {},
      "source": [
        "<span class=\"theorem-title\">**Exercise 8**</span> Re-create the heatmap\n",
        "plot of the interpolated image but add the `cmap` argument. Try the\n",
        "values `\"viridis\"`, `\"Greys\"` and `\"jet\"`. Which of these is a good\n",
        "colormap choice for a receptive field plot?"
      ]
    },
    {
      "cell_type": "code",
      "execution_count": 21,
      "id": "f7191e0a",
      "metadata": {},
      "outputs": [
        {
          "name": "stdout",
          "output_type": "stream",
          "text": [
            "​"
          ]
        }
      ],
      "source": []
    },
    {
      "cell_type": "markdown",
      "id": "3e400d12-f6d6-4f05-a590-d49e5b4e292b",
      "metadata": {},
      "source": [
        "## 3 Visualizing Receptive Fields Across Brain Areas\n",
        "\n",
        "Now we know how to compute and visualize receptive field maps. However,\n",
        "modern multi-electrode recordings contain lots of neurons such that\n",
        "plotting and inspecting them individually is not feasible. Fortunately,\n",
        "seaborn provides the `FacetGrid` class for generating multi-plot grids\n",
        "which allows us to quickly visualize and compare large numbers of\n",
        "neurons. When instantiating a `FacetGrid`, we provide a data frame and\n",
        "the categories that make up th rows and columns of our plot. We then map\n",
        "a function to the data frame that performs some plotting operation and\n",
        "seaborn will automatically determine the correct location of the plot.\n",
        "\n",
        "| Code | Description |\n",
        "|------------------------------------|------------------------------------|\n",
        "| `def fun(data, *args, **kwargs)` | Define a function `fun` that takes an argument `data` as well as an arbitrary number of positional `*args` and keyword arguments `**kwargs` |\n",
        "| `g = sns.FacetGrid(data=df, col=\"col1\")` | Create a multi-plot grid for the data frame `df` with one column for each unique value in `\"col1\"` |\n",
        "| `g = sns.FacetGrid(data=df, col=\"col1\")` | Create a multi-plot grid with one column for each unique value in `\"col1\"` and start a new row every `3` plots |\n",
        "| `g = sns.FacetGrid(data=df, col=\"col1\", row=\"col2\")` | Create a multi-plot grid with one column for each unique value in `\"col1\"` and one row for each value in `\"col2\"` |\n",
        "| `g.map_dataframe(fun)` | Map the function `fun` to the data frame associated with the multi-plot grid `g` |\n",
        "| `units = df[df.col1 == \"a\"]` | Get all rows in `df` where the value `\"col1\"` is `\"a\"` |\n",
        "| `units = df[df.col1.isin(x)]` | Get all rows in `df` where the value of `\"col1\"` is in the list `x` |\n",
        "\n",
        "------------------------------------------------------------------------\n",
        "\n",
        "<span class=\"theorem-title\">**Example 3**</span> Create a multi-plot\n",
        "grid where each column represents one `\"brain_area\"`, then define a\n",
        "function `fun` that takes in a data frame `data`, computes the receptive\n",
        "field map and plots it and map that function to the grid to plot the\n",
        "average rf for every brain area."
      ]
    },
    {
      "cell_type": "code",
      "execution_count": 22,
      "id": "38093688",
      "metadata": {},
      "outputs": [
        {
          "data": {
            "image/png": "[encoded data removed]"
          },
          "metadata": {},
          "output_type": "display_data"
        }
      ],
      "source": [
        "def fun(data, *args, **kwargs):\n",
        "    rf = data.groupby([\"y_position\", \"x_position\"]).size().unstack()\n",
        "    sns.heatmap(rf)\n",
        "\n",
        "\n",
        "g = sns.FacetGrid(data=df, col=\"brain_area\")\n",
        "g.map_dataframe(fun)"
      ]
    },
    {
      "cell_type": "markdown",
      "id": "b85d2be7-b3cf-4e20-a183-c054e28bbccc",
      "metadata": {},
      "source": [
        "<span class=\"theorem-title\">**Exercise 9**</span> Create a multi-plot\n",
        "grid where each `row` represents one `\"brain_area\"` and each column\n",
        "represents one `\"orientation\"`. Then, map the function `fun` to the grid\n",
        "to draw the average receptive field map for every brain area and every\n",
        "stimulus orientation."
      ]
    },
    {
      "cell_type": "code",
      "execution_count": 24,
      "id": "eb96ef02",
      "metadata": {},
      "outputs": [
        {
          "name": "stdout",
          "output_type": "stream",
          "text": [
            "​"
          ]
        }
      ],
      "source": []
    },
    {
      "cell_type": "markdown",
      "id": "a8961766-8c29-4ae6-b820-7f2d310db598",
      "metadata": {},
      "source": [
        "<span class=\"theorem-title\">**Exercise 10**</span> The code below\n",
        "selects the first `9` unique `units` in the primary visual cortex\n",
        "`\"V1\"`. Plot their receptive field maps with `col=\"unit_id\"` and set\n",
        "`col_wrap=3` to create a new row every `3` plots. How many units show a\n",
        "clearly visible receptive field?"
      ]
    },
    {
      "cell_type": "code",
      "execution_count": 25,
      "id": "8ebddc28",
      "metadata": {},
      "outputs": [
        {
          "data": {
            "text/html": [
              "\n",
              "<p>77249 rows × 6 columns</p>\n",
              "</div>"
            ]
          },
          "metadata": {},
          "output_type": "display_data"
        }
      ],
      "source": [
        "units = df[df.brain_area == \"V1\"].unit_id.unique()[:9]\n",
        "units = df[df.unit_id.isin(units)]\n",
        "units"
      ]
    },
    {
      "cell_type": "code",
      "execution_count": 27,
      "id": "9e998aa7",
      "metadata": {},
      "outputs": [
        {
          "name": "stdout",
          "output_type": "stream",
          "text": [
            "​"
          ]
        }
      ],
      "source": []
    },
    {
      "cell_type": "markdown",
      "id": "079087d3-3646-4a25-985b-aacb02ec7a4d",
      "metadata": {},
      "source": [
        "<span class=\"theorem-title\">**Exercise 11**</span> Plot the first `9`\n",
        "unique `unit` in the anterolateral area `\"AL\"`. How do these receptive\n",
        "field maps look compared to the ones from `\"V1\"`?"
      ]
    },
    {
      "cell_type": "code",
      "execution_count": 29,
      "id": "a7960700",
      "metadata": {},
      "outputs": [
        {
          "name": "stdout",
          "output_type": "stream",
          "text": [
            "​"
          ]
        }
      ],
      "source": []
    },
    {
      "cell_type": "markdown",
      "id": "27db945c-579c-49fc-8173-9df636273280",
      "metadata": {},
      "source": [
        "<span class=\"theorem-title\">**Exercise 12**</span> The code below\n",
        "samples `5` random `units` from every `\"brain_area\"` and assigns a\n",
        "`\"unit_rank\"` to each unit per areas. Plot the receptive field maps of\n",
        "the `units` with a `row` for every `\"unit_rank\"` and a `col` for every\n",
        "`\"brain_area\"` (HINT: since the sampling is random, you’ll get a\n",
        "different plot everytime you run the cell below)."
      ]
    },
    {
      "cell_type": "code",
      "execution_count": 30,
      "id": "1517c405",
      "metadata": {},
      "outputs": [
        {
          "data": {
            "text/html": [
              "\n",
              "<p>87242 rows × 7 columns</p>\n",
              "</div>"
            ]
          },
          "metadata": {},
          "output_type": "display_data"
        }
      ],
      "source": [
        "units = df[[\"brain_area\", \"unit_id\"]].drop_duplicates().groupby(\"brain_area\").sample(5)\n",
        "units[\"unit_rank\"] = units.groupby(\"brain_area\").cumcount()\n",
        "del units[\"brain_area\"]\n",
        "units = df.merge(units, on=\"unit_id\")\n",
        "units"
      ]
    },
    {
      "cell_type": "code",
      "execution_count": 32,
      "id": "d4222ee3",
      "metadata": {},
      "outputs": [
        {
          "name": "stdout",
          "output_type": "stream",
          "text": [
            "​"
          ]
        }
      ],
      "source": []
    },
    {
      "cell_type": "markdown",
      "id": "7fe8d2b2-0702-40b8-bf79-ed73741802bd",
      "metadata": {},
      "source": [
        "<span class=\"theorem-title\">**Exercise 13**</span> Modify the plotting\n",
        "fuction `fun` to use `cmap=\"Greys\"` and re-create the plot with the\n",
        "average receptive field map per area from\n",
        "<a href=\"#exm-rfs\" class=\"quarto-xref\">Example 3</a>."
      ]
    },
    {
      "cell_type": "code",
      "execution_count": 34,
      "id": "42d931a4",
      "metadata": {},
      "outputs": [
        {
          "name": "stdout",
          "output_type": "stream",
          "text": [
            "​"
          ]
        }
      ],
      "source": []
    },
    {
      "cell_type": "markdown",
      "id": "618fc1e9-a4e3-49b9-9b0b-b45a9755acf9",
      "metadata": {},
      "source": [
        "<span class=\"theorem-title\">**Exercise 14**</span> (BONUS): modify the\n",
        "function `fun` to upscale and smooth the receptive field maps as shown\n",
        "in <a href=\"#exm-smooth\" class=\"quarto-xref\">Example 2</a>. Then,\n",
        "re-create the plot with the average receptive field map per area."
      ]
    },
    {
      "cell_type": "code",
      "execution_count": 36,
      "id": "20b1d68f",
      "metadata": {},
      "outputs": [
        {
          "name": "stdout",
          "output_type": "stream",
          "text": [
            "​"
          ]
        }
      ],
      "source": []
    },
    {
      "cell_type": "markdown",
      "id": "c72c31a2-1cf5-49d8-8086-a9bb4d6389b4",
      "metadata": {},
      "source": [
        "## 4 Fitting Gaussian Models to Receptive Field Maps\n",
        "\n",
        "In the previous section we saw that some neurons have a receptive field\n",
        "with a sharply localized peak while others are more spread out.\n",
        "Visualizing receptive field maps is a great way for getting an idea\n",
        "about the trends in our data but a systematic analysis and comparison of\n",
        "receptive fields requires us to parameterize their properties. In this\n",
        "section, we are going to learn how to fit a model to the receptive field\n",
        "map and use this model to determine the outline of the receptive field.\n",
        "For this we are going to use a 2-dimensional Gaussian of the form:\n",
        "\n",
        "$$\n",
        "b \\exp\\left(-\\left[\\frac{(x - \\mu_x)^2}{2\\sigma_x^2} + \\frac{(y - \\mu_y)^2}{2\\sigma_y^2}\\right]\\right)\n",
        "$$\n",
        "\n",
        "Which is a simple model that has a very clear interpretation because the\n",
        "standard deviation parameters $\\sigma_x$ and $\\sigma_y$ represent the\n",
        "width and height of the receptive field and the receptive field area is\n",
        "given by $\\pi \\sigma_x \\sigma_y$.\n",
        "\n",
        "| Code | Description |\n",
        "|------------------------------------|------------------------------------|\n",
        "| `popt, xy = utils.fit_gaussian_2d(rf)` | Fit a 2D Gaussian to the receptive field `rf` and return the optimal parameters `popt` and the grid of coordinates `xy` |\n",
        "| `rf_fit = utils.gaussian_2d(xy, *popt).reshape(rf.shape)` | Generate `rf_fit` as a 2D Gaussian with the coordinate grid `xy` and the optimized parameters `*popt` and `.reshape()` it to the shape of `rf` |\n",
        "| `utils.r_squared(rf, rf_fit)` | Compute the coefficient of determination R^2 for `rf` and `rf_fit` |\n",
        "| `sigma_x, sigma_y = popt[3:5]` | Get the standard deviation in x and y, `sigma_x` and `sigma_y`, from the optimal parameters od the 2D Gaussian |\n",
        "| `x, y = utils.get_rf_outline(popt)` | Get the `x` and `y` coordinates that form the outline of the Gaussian fot of the receptive field |\n",
        "| `plt.plot(x, y, color=\"black\")` | Plot the points with coordinates `x` and `y` and connect them with `\"black\"` lines |\n",
        "| `plt.subplot(1, 2, 1)` | Create the first subplot in a 1 by 2 grid |\n",
        "| `plt.subplot(1, 2, 2)` | Create the seconds subplot in a 1 by 2 grid |\n",
        "| `plt.imshow(rf, extent=[-45, 45, -45, 45], origin=\"lower\")` | Plot the receptive field `rf` as an image that extends from `-45` to `45` in x and y and where the first row of `rf` is drawn at the `\"lower\"` end of the plot |\n",
        "\n",
        "------------------------------------------------------------------------\n",
        "\n",
        "<span class=\"theorem-title\">**Example 4**</span> Compute the receptive\n",
        "field map for unit `951028431` and fit a 2-D Gaussian to it. Then, use\n",
        "the optimized parameters `popt` and the grid of coordinates `xy` to\n",
        "generate the fitted receptive field map `rf_fit` and compute the\n",
        "coefficient of determination using `utils.r_squared()`."
      ]
    },
    {
      "cell_type": "code",
      "execution_count": 37,
      "id": "1e118959",
      "metadata": {},
      "outputs": [
        {
          "data": {
            "text/plain": [
              "0.9900711534689108"
            ]
          },
          "metadata": {},
          "output_type": "display_data"
        }
      ],
      "source": [
        "unit = 951028431\n",
        "rf = df[df.unit_id == unit].groupby([\"y_position\", \"x_position\"]).size().unstack()\n",
        "popt, xy = utils.fit_gaussian_2d(rf)\n",
        "rf_fit = utils.gaussian_2d(xy, *popt).reshape(rf.shape)\n",
        "utils.r_squared(rf, rf_fit)"
      ]
    },
    {
      "cell_type": "markdown",
      "id": "cf11d2ac-e5e3-415d-b9c6-3a076a685b71",
      "metadata": {},
      "source": [
        "<span class=\"theorem-title\">**Example 5**</span> Plot the estimated\n",
        "receptive field map `rf` next to the map predicted from the Gaussian\n",
        "model `rf_fit`."
      ]
    },
    {
      "cell_type": "code",
      "execution_count": 38,
      "id": "4b24af0a",
      "metadata": {},
      "outputs": [
        {
          "data": {
            "image/png": "[encoded data removed]"
          },
          "metadata": {},
          "output_type": "display_data"
        }
      ],
      "source": [
        "plt.subplot(1, 2, 1)\n",
        "plt.imshow(rf, extent=[-45, 45, -45, 45], origin=\"lower\")\n",
        "plt.subplot(1, 2, 2)\n",
        "plt.imshow(rf_fit, extent=[-45, 45, -45, 45], origin=\"lower\")"
      ]
    },
    {
      "cell_type": "markdown",
      "id": "0325c4dd-fdfa-4f50-b355-384bb1b503a9",
      "metadata": {},
      "source": [
        "<span class=\"theorem-title\">**Exercise 15**</span> Compute the receptive\n",
        "field map for unit `951035530` and fit a 2-D Gaussian to it. Then, use\n",
        "the optimized parameters `popt` and the grid of coordinates `xy` to\n",
        "generate the fitted receptive field map `rf_fit` and compute the\n",
        "coefficient of determination using `utils.r_squared()`."
      ]
    },
    {
      "cell_type": "code",
      "execution_count": 40,
      "id": "cda598f0",
      "metadata": {},
      "outputs": [
        {
          "name": "stdout",
          "output_type": "stream",
          "text": [
            "​"
          ]
        }
      ],
      "source": []
    },
    {
      "cell_type": "markdown",
      "id": "51b81054-cd44-42ca-929e-f52831e5accf",
      "metadata": {},
      "source": [
        "<span class=\"theorem-title\">**Exercise 16**</span> Plot the estimated\n",
        "receptive field map `rf` next to the map predicted from the Gaussian\n",
        "model `rf_fit`."
      ]
    },
    {
      "cell_type": "code",
      "execution_count": 42,
      "id": "17e6a07d",
      "metadata": {},
      "outputs": [
        {
          "name": "stdout",
          "output_type": "stream",
          "text": [
            "​"
          ]
        }
      ],
      "source": []
    },
    {
      "cell_type": "markdown",
      "id": "18f9d2f8-b181-4544-b999-eb23ed52fbdd",
      "metadata": {},
      "source": [
        "<span class=\"theorem-title\">**Exercise 17**</span> Compute the receptive\n",
        "field map for unit `951031429`, fit a 2-D Gaussian and compute\n",
        "`utils.r_squared()`. What does the value of $R^2$ tell you about how well\n",
        "the model fits the data?"
      ]
    },
    {
      "cell_type": "code",
      "execution_count": 44,
      "id": "70dc6e8c",
      "metadata": {},
      "outputs": [
        {
          "name": "stdout",
          "output_type": "stream",
          "text": [
            "​"
          ]
        }
      ],
      "source": []
    },
    {
      "cell_type": "markdown",
      "id": "76d8999d-682c-4af7-a9d6-d2e1b5e14346",
      "metadata": {},
      "source": [
        "<span class=\"theorem-title\">**Exercise 18**</span> Plot the estimated\n",
        "receptive field map `rf` next to the map predicted from the Gaussian\n",
        "model `rf_fit`. Do you think a 2D Gaussian is a good description of this\n",
        "data?"
      ]
    },
    {
      "cell_type": "code",
      "execution_count": 46,
      "id": "73c78550",
      "metadata": {},
      "outputs": [
        {
          "name": "stdout",
          "output_type": "stream",
          "text": [
            "​"
          ]
        }
      ],
      "source": []
    },
    {
      "cell_type": "markdown",
      "id": "13fbb0a9-aaee-4e64-a64f-e2fc4a797916",
      "metadata": {},
      "source": [
        "<span class=\"theorem-title\">**Exercise 19**</span> Compute the receptive\n",
        "field map for unit `951031429`, fit a 2-D Gaussian and compute\n",
        "`utils.r_squared()`. Would you consider the model a good fit based on th\n",
        "evalue of $R^2$?"
      ]
    },
    {
      "cell_type": "code",
      "execution_count": 48,
      "id": "d53e8ed8",
      "metadata": {},
      "outputs": [
        {
          "name": "stdout",
          "output_type": "stream",
          "text": [
            "​"
          ]
        }
      ],
      "source": []
    },
    {
      "cell_type": "markdown",
      "id": "5ae578f3-32d5-4fdc-936b-cfcbecca84a8",
      "metadata": {},
      "source": [
        "<span class=\"theorem-title\">**Exercise 20**</span> Plot the estimated\n",
        "receptive field map `rf` next to the map predicted from the Gaussian\n",
        "model `rf_fit`. Do you think a 2D Gaussian is a good description of this\n",
        "data?"
      ]
    },
    {
      "cell_type": "code",
      "execution_count": 50,
      "id": "cf693ec9",
      "metadata": {},
      "outputs": [
        {
          "name": "stdout",
          "output_type": "stream",
          "text": [
            "​"
          ]
        }
      ],
      "source": []
    },
    {
      "cell_type": "markdown",
      "id": "60ff98ee-e7eb-4ace-ae20-f8cc56836136",
      "metadata": {},
      "source": [
        "<span class=\"theorem-title\">**Example 6**</span> Fit a model to the\n",
        "receptive field map of unit `951028431` and get width and height as the\n",
        "standard deviation of the 2D Gaussian in x (`sigma_x`) and y\n",
        "(`sigma_y`). Print the width, height and area of the receptive field."
      ]
    },
    {
      "cell_type": "code",
      "execution_count": 51,
      "id": "c783d333",
      "metadata": {},
      "outputs": [
        {
          "name": "stdout",
          "output_type": "stream",
          "text": [
            "RF width:  19.425092453344845 degree\n",
            "RF height:  17.008349896630815 degree\n",
            "RF area:  1037.9469302129273 degree^2"
          ]
        }
      ],
      "source": [
        "unit = 951028431\n",
        "rf = df[df.unit_id == unit].groupby([\"y_position\", \"x_position\"]).size().unstack()\n",
        "popt, xy = utils.fit_gaussian_2d(rf)\n",
        "sigma_x, sigma_y = popt[3:5]\n",
        "\n",
        "print(\"RF width: \", np.abs(sigma_x), \"degree\")\n",
        "print(\"RF height: \", np.abs(sigma_y), \"degree\")\n",
        "print(\"RF area: \", np.pi * np.abs(sigma_x) * np.abs(sigma_y), \"degree^2\")"
      ]
    },
    {
      "cell_type": "markdown",
      "id": "8b3022b7-bc82-4335-9760-de3ca94c9b76",
      "metadata": {},
      "source": [
        "<span class=\"theorem-title\">**Example 7**</span> Get the x, y\n",
        "coordinates that for the outline of the receptive field model at\n",
        "`sigma=1` and plot it together with the receptive field map."
      ]
    },
    {
      "cell_type": "code",
      "execution_count": 52,
      "id": "d8ad3138",
      "metadata": {},
      "outputs": [
        {
          "data": {
            "image/png": "[encoded data removed]"
          },
          "metadata": {},
          "output_type": "display_data"
        }
      ],
      "source": [
        "x, y = utils.get_rf_outline(popt)\n",
        "plt.imshow(rf, extent=[-45, 45, -45, 45], origin=\"lower\")\n",
        "plt.plot(x, y, color=\"black\")"
      ]
    },
    {
      "cell_type": "markdown",
      "id": "5132bc74-91e0-42d3-bfa5-97997679cb0c",
      "metadata": {},
      "source": [
        "<span class=\"theorem-title\">**Exercise 21**</span> Fit a model to the\n",
        "receptive field map of unit `951035530` and get width and height as the\n",
        "standard deviation of the 2D Gaussian in x (`sigma_x`) and y\n",
        "(`sigma_y`). Print the width, height and area of the receptive field."
      ]
    },
    {
      "cell_type": "code",
      "execution_count": 54,
      "id": "16da3511",
      "metadata": {},
      "outputs": [
        {
          "name": "stdout",
          "output_type": "stream",
          "text": [
            "​"
          ]
        }
      ],
      "source": []
    },
    {
      "cell_type": "markdown",
      "id": "c1459517-5ce4-4752-8230-a9de4efde259",
      "metadata": {},
      "source": [
        "<span class=\"theorem-title\">**Exercise 22**</span> Get the x, y\n",
        "coordinates that for the outline of the receptive field model at\n",
        "`sigma=1.5` and plot it together with the receptive field map."
      ]
    },
    {
      "cell_type": "code",
      "execution_count": 56,
      "id": "23a9ab07",
      "metadata": {},
      "outputs": [
        {
          "name": "stdout",
          "output_type": "stream",
          "text": [
            "​"
          ]
        }
      ],
      "source": []
    },
    {
      "cell_type": "markdown",
      "id": "d072c9c6-57d7-4eb1-a01c-9ee9379f3348",
      "metadata": {},
      "source": [
        "<span class=\"theorem-title\">**Exercise 23**</span> Fit a model to the\n",
        "receptive field map of unit `951027930` and get width and height as the\n",
        "standard deviation of the 2D Gaussian in x (`sigma_x`) and y\n",
        "(`sigma_y`). Print the width,V height and area of the receptive field."
      ]
    },
    {
      "cell_type": "code",
      "execution_count": 58,
      "id": "a6e8ee0e",
      "metadata": {},
      "outputs": [
        {
          "name": "stdout",
          "output_type": "stream",
          "text": [
            "​"
          ]
        }
      ],
      "source": []
    },
    {
      "cell_type": "markdown",
      "id": "5827bc35-f2f1-4ce1-b544-457234726b3a",
      "metadata": {},
      "source": [
        "<span class=\"theorem-title\">**Exercise 24**</span> Get the x, y\n",
        "coordinates that for the outline of the receptive field model at\n",
        "`sigma=2` (encompasses about 95% of the model’s probability mass) and\n",
        "plot it together with the receptive field map."
      ]
    },
    {
      "cell_type": "code",
      "execution_count": 60,
      "id": "3c919e42",
      "metadata": {},
      "outputs": [
        {
          "name": "stdout",
          "output_type": "stream",
          "text": [
            "​"
          ]
        }
      ],
      "source": []
    },
    {
      "cell_type": "markdown",
      "id": "04a7aa45-d1ae-48ee-a550-92b359ba66cd",
      "metadata": {},
      "source": [
        "## 5 Comparing Receptive Fields Across Visual Areas\n",
        "\n",
        "Now, we can use the 2D Gaussian to model every unit in our recording and\n",
        "use the estimated parameters to compare the receptive field fits and\n",
        "sizes across the different visual areas. We know that, as you ascend the\n",
        "hierarchy of the visual system, receptive fields do not only get larger\n",
        "but also become more complex. Thus, our simple 2D Gaussian may be a\n",
        "worse fit for the receptive fields in higher visual areas. To keep\n",
        "things simple, we can focus our analysis on those neurons that are well\n",
        "described by the Gaussian model (as indicated by a high value of $R^2$).\n",
        "\n",
        "| Code | Description |\n",
        "|------------------------------------|------------------------------------|\n",
        "| `df.groupby([\"col1\", \"col2\"]).size().unstack(fill_values=0)` | Group `df` by `\"col1\"` and `\"col2\"`, get the number of rows for each grouping and pivot the table so that the inner most index becomes a new set of columns. Fill the cells without any observations with the value `0`. |\n",
        "| `sns.histplot(df, x=\"col1\")` | Create a histogram of the values in `\"col1\"` |\n",
        "| `sns.kdeplot(df, x=\"col1\", hue=\"col2\", common_norm=False)` | Plot the distribution of the values in `\"col1\"` for each unique value in `\"col2\"` and normalize the distribution separately |\n",
        "| `sns.barplot(df, x=\"col1\", y=\"col2\")` | Create a barplot with `\"col1\"` on the x-axis and `\"col2\"` on the y-axis |\n",
        "| `df[\"col3\"] = df.col1 * df.col2` | Create a new column `\"col3\"` that is the product of the values in `\"col1\"` and `\"col2\"` |\n",
        "| `df[df.col1>x]` | Get all rows of `df` where the value of `\"col1\"` is greater than `x` |\n",
        "| `np.pi` | Get the value of $\\pi$ |\n",
        "| `np.abs(x)` | Get the absolute values of `x` |\n",
        "\n",
        "The cell below defines the function `fit_one_unit()` that combines the\n",
        "analysis steps from the previous sections: it computes the receptive\n",
        "field map, fits a 2D gaussian and returns `r_squared` as well as\n",
        "`sigma_x` and `sigma_y`. This function is applied to every unit to\n",
        "obtain a table that contains the statistical properties of every\n",
        "neuron’s receptive field. Run the code to generate the data frame\n",
        "`rf_stats` with the statistial properties of every neuron’s receptive\n",
        "field."
      ]
    },
    {
      "cell_type": "code",
      "execution_count": 61,
      "id": "a67d0e61",
      "metadata": {},
      "outputs": [
        {
          "data": {
            "text/html": [
              "\n",
              "<p>385 rows × 5 columns</p>\n",
              "</div>"
            ]
          },
          "metadata": {},
          "output_type": "display_data"
        }
      ],
      "source": [
        "def fit_one_unit(df):\n",
        "    rf = df.groupby([\"y_position\", \"x_position\"]).size().unstack(fill_value=0)\n",
        "    popt, xy = utils.fit_gaussian_2d(rf)\n",
        "    rf_fit = utils.gaussian_2d(xy, *popt).reshape(rf.shape)\n",
        "    r_squared = utils.r_squared(rf, rf_fit)\n",
        "    sigma_x, sigma_y = popt[3:5]\n",
        "    return pd.Series(\n",
        "        [r_squared, sigma_x, sigma_y], index=[\"r_squared\", \"sigma_x\", \"sigma_y\"]\n",
        "    )\n",
        "\n",
        "\n",
        "rf_stats = (\n",
        "    df.groupby([\"brain_area\", \"unit_id\"])\n",
        "    .apply(fit_one_unit, include_groups=False)\n",
        "    .reset_index()\n",
        ")\n",
        "rf_stats"
      ]
    },
    {
      "cell_type": "markdown",
      "id": "ee535053-30d7-472c-a8d8-850bd82ea654",
      "metadata": {},
      "source": [
        "<span class=\"theorem-title\">**Exercise 25**</span> Use `sns.histplot` to\n",
        "plot the distribution of `\"r_squared\"` values across all receptive field\n",
        "models."
      ]
    },
    {
      "cell_type": "code",
      "execution_count": 63,
      "id": "164e2f2b",
      "metadata": {},
      "outputs": [
        {
          "name": "stdout",
          "output_type": "stream",
          "text": [
            "​"
          ]
        }
      ],
      "source": []
    },
    {
      "cell_type": "markdown",
      "id": "85e6744f-262e-4aea-96d9-02c1b0f5f84f",
      "metadata": {},
      "source": [
        "<span class=\"theorem-title\">**Exercise 26**</span> Use `sns.kdeplot` to\n",
        "plot the distribution of `\"r_squared\"` with a `hue` for `\"brain_area\"`\n",
        "and without applying a `common_norm`. For which brain area is the 2D\n",
        "Gaussian model of the neurons’ receptive fields most accurate?"
      ]
    },
    {
      "cell_type": "code",
      "execution_count": 65,
      "id": "7f90ceaf",
      "metadata": {},
      "outputs": [
        {
          "name": "stdout",
          "output_type": "stream",
          "text": [
            "​"
          ]
        }
      ],
      "source": []
    },
    {
      "cell_type": "markdown",
      "id": "b54874ab-baef-4907-bb22-69f0ba0bf117",
      "metadata": {},
      "source": [
        "<span class=\"theorem-title\">**Exercise 27**</span> Calculate the\n",
        "receptive field areas as `np.pi * sigma_x * sigma_y` and assign them to\n",
        "a new column `\"rf_area\"`. Why do we have to take the absolute values of\n",
        "`sigma_x` and `sigma_y` ?"
      ]
    },
    {
      "cell_type": "code",
      "execution_count": 67,
      "id": "7ebfd62d",
      "metadata": {},
      "outputs": [
        {
          "name": "stdout",
          "output_type": "stream",
          "text": [
            "​"
          ]
        }
      ],
      "source": []
    },
    {
      "cell_type": "markdown",
      "id": "2e9e1cc0-715a-4b58-87ed-f237f6f478be",
      "metadata": {},
      "source": [
        "<span class=\"theorem-title\">**Exercise 28**</span> Use `sns.barplot`\n",
        "with `\"brain_area\"` on the `x` axis and `\"rf_area\"` on the `y` axis. In\n",
        "which area are the receptive fields the smallest?"
      ]
    },
    {
      "cell_type": "code",
      "execution_count": 69,
      "id": "045a1240",
      "metadata": {},
      "outputs": [
        {
          "name": "stdout",
          "output_type": "stream",
          "text": [
            "​"
          ]
        }
      ],
      "source": []
    },
    {
      "cell_type": "markdown",
      "id": "feaaab66-e106-4f87-badc-bdfdb2959e9c",
      "metadata": {},
      "source": [
        "<span class=\"theorem-title\">**Exercise 29**</span> Recreate the barplot\n",
        "but only include the receptive fields where the value of $R^2$ is above\n",
        "`0.8`. How does this affect the outcome?"
      ]
    },
    {
      "cell_type": "code",
      "execution_count": 71,
      "id": "c3c6b481",
      "metadata": {},
      "outputs": [
        {
          "name": "stdout",
          "output_type": "stream",
          "text": [
            "​"
          ]
        }
      ],
      "source": []
    }
  ],
  "metadata": {
    "kernelspec": {
      "display_name": "Python 3 (ipykernel)",
      "language": "python",
      "name": "python3",
      "path": "/home/olebi/courses/Intro-to-Neural-Spike-Analysis-in-Python/.pixi/envs/default/share/jupyter/kernels/python3"
    }
  },
  "nbformat": 4,
  "nbformat_minor": 5
}
