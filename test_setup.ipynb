{
 "cells": [
  {
   "cell_type": "markdown",
   "id": "fc96f3d1",
   "metadata": {},
   "source": [
    "Welcome to the Workshop **Intro to Neural Spike Analysis in Python**!\n",
    "The purpose of this notebook is to test that your setup is working.\n",
    "\n",
    "You'll need to:\n",
    "1. Install Python packages\n",
    "2. Select a Jupyter kernel\n",
    "3. Run Python code cells"
   ]
  },
  {
   "cell_type": "markdown",
   "id": "0622ad9f",
   "metadata": {},
   "source": [
    "## 1. Installing Modules\n",
    "\n",
    "We recommend using the [pixi package manager](https://pixi.sh/latest/#installation). Using pixi you can create an environment and add python and packages like this:\n",
    "\n",
    "```bash\n",
    "pixi init\n",
    "pixi add python\n",
    "pixi add -pypi elephant viziphant\n",
    "```\n",
    "\n",
    "You can also use a different package manager and install the package via pip:\n",
    "\n",
    "```bash\n",
    "pip install elephant viziphant\n",
    "```"
   ]
  },
  {
   "cell_type": "markdown",
   "id": "43d78969",
   "metadata": {},
   "source": [
    "## 2. Selecting the Kernel\n",
    "\n",
    "After installing, you must select the Python environment where you installed the packages as the **Kernel** for this notebook, If you used pixi, this environment shoul dbe called **default**."
   ]
  },
  {
   "cell_type": "markdown",
   "id": "c7b8f1af",
   "metadata": {},
   "source": [
    "## 3. Run Code\n",
    "\n",
    "If you followed steps 1 and 2, you should be able to run the code in the cell below which simulates a neuron and draws a rasterplot"
   ]
  },
  {
   "cell_type": "code",
   "execution_count": null,
   "id": "58b3adc0",
   "metadata": {},
   "outputs": [],
   "source": [
    "import quantities as pq\n",
    "from elephant.spike_train_generation import StationaryPoissonProcess\n",
    "from viziphant.rasterplot import rasterplot\n",
    "\n",
    "neurom = StationaryPoissonProcess(rate=5*pq.Hz, t_stop=1*pq.s)"
   ]
  }
 ],
 "metadata": {
  "kernelspec": {
   "display_name": "default",
   "language": "python",
   "name": "python3"
  },
  "language_info": {
   "name": "python",
   "version": "3.12.10"
  }
 },
 "nbformat": 4,
 "nbformat_minor": 5
}
