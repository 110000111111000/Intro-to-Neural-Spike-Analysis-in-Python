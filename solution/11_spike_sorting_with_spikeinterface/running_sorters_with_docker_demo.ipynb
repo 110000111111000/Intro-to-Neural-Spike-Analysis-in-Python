{
  "cells": [
    {
      "cell_type": "markdown",
      "metadata": {},
      "source": [
        "# Running Sorters with Docker (Demo)"
      ],
      "id": "7dd2d583-8e06-433c-b568-6874f01a1901"
    },
    {
      "cell_type": "code",
      "execution_count": 2,
      "metadata": {},
      "outputs": [],
      "source": [
        "import spikeinterface.full as si\n",
        "import probeinterface as pi"
      ],
      "id": "5bcfb59c"
    },
    {
      "cell_type": "markdown",
      "metadata": {},
      "source": [
        "Check which sorters are installed and which ones are available"
      ],
      "id": "64b50a56-9212-4e34-9fef-b1d41962c83f"
    },
    {
      "cell_type": "code",
      "execution_count": 3,
      "metadata": {},
      "outputs": [
        {
          "output_type": "stream",
          "name": "stdout",
          "text": [
            "Installed sorters: ['simple', 'spykingcircus2', 'tridesclous2']\n",
            "Available sorters: ['combinato', 'hdsort', 'herdingspikes', 'ironclust', 'kilosort', 'kilosort2', 'kilosort2_5', 'kilosort3', 'kilosort4', 'klusta', 'mountainsort4', 'mountainsort5', 'pykilosort', 'simple', 'spykingcircus', 'spykingcircus2', 'tridesclous', 'tridesclous2', 'waveclus', 'waveclus_snippets', 'yass']"
          ]
        }
      ],
      "source": [
        "print(\"Installed sorters:\", si.installed_sorters())\n",
        "print(\"Available sorters:\", si.available_sorters())"
      ],
      "id": "578c9dfb"
    },
    {
      "cell_type": "markdown",
      "metadata": {},
      "source": [
        "Load the data and add probe information"
      ],
      "id": "b4bc8b6f-28ce-4f61-b954-41436a10fa80"
    },
    {
      "cell_type": "code",
      "execution_count": 4,
      "metadata": {},
      "outputs": [],
      "source": [
        "data_dir = \"openephys_recording/2023-08-23_15-56-05\"\n",
        "rec = si.read_openephys(data_dir, stream_id=\"0\")\n",
        "probe = pi.get_probe(\"cambridgeneurotech\", \"ASSY-236-H5\")\n",
        "probe.wiring_to_device(\"cambridgeneurotech_mini-amp-64\")\n",
        "rec = rec.set_probe(probe)"
      ],
      "id": "fd1684dc"
    },
    {
      "cell_type": "markdown",
      "metadata": {},
      "source": [
        "Make sure docker is installed"
      ],
      "id": "cc77acf1-af46-4240-ba26-e37699675cb2"
    },
    {
      "cell_type": "code",
      "execution_count": 5,
      "metadata": {},
      "outputs": [
        {
          "output_type": "stream",
          "name": "stdout",
          "text": [
            "Docker version 28.1.1, build 4eba377"
          ]
        }
      ],
      "source": [
        "!docker --version"
      ],
      "id": "e46fb78f"
    },
    {
      "cell_type": "markdown",
      "metadata": {},
      "source": [
        "Select a short segment for demo purpose."
      ],
      "id": "d23ecebf-6bc7-4d33-a8c1-296a5eb9756f"
    },
    {
      "cell_type": "code",
      "execution_count": 6,
      "metadata": {},
      "outputs": [],
      "source": [
        "t_start = 0\n",
        "t_stop = 10\n",
        "fs = rec.get_sampling_frequency()\n",
        "seg = rec.frame_slice(start_frame=t_start * fs, end_frame=t_stop * fs)"
      ],
      "id": "4422ba39"
    },
    {
      "cell_type": "markdown",
      "metadata": {},
      "source": [
        "Running `\"kilosort4\"` will throw an error, because it is not installed"
      ],
      "id": "8272348b-3c22-4075-8dbd-eeaca9b959f5"
    },
    {
      "cell_type": "code",
      "execution_count": 7,
      "metadata": {},
      "outputs": [],
      "source": [
        "sorting_KS4 = si.run_sorter(\n",
        "    sorter_name=\"tridesclous2\",\n",
        "    recording=rec,\n",
        "    folder=\"results_TDC\",\n",
        "    remove_existing_folder=True,\n",
        ")"
      ],
      "id": "9113e0c4"
    },
    {
      "cell_type": "markdown",
      "metadata": {},
      "source": [
        "However, by setting `docker_image=True`, we can allow the `run_sorter()`\n",
        "function to download a docker image from the SpikeInterface library and\n",
        "run the sorter inside the cotainer."
      ],
      "id": "0f120026-42b7-4767-9ae9-139f030e1765"
    },
    {
      "cell_type": "code",
      "execution_count": 8,
      "metadata": {},
      "outputs": [],
      "source": [
        "sorting_KS4 = si.run_sorter(\n",
        "    sorter_name=\"kilosort4\",\n",
        "    recording=rec,\n",
        "    folder=\"results_KS4\",\n",
        "    docker_image=True,\n",
        "    delete_container_files=False,\n",
        ")"
      ],
      "id": "c2f1dede"
    }
  ],
  "nbformat": 4,
  "nbformat_minor": 5,
  "metadata": {
    "kernelspec": {
      "name": "python3",
      "display_name": "Python 3 (ipykernel)",
      "language": "python",
      "path": "/home/olebi/courses/Intro-to-Neural-Spike-Analysis-in-Python/.pixi/envs/render/share/jupyter/kernels/python3"
    },
    "language_info": {
      "name": "python",
      "codemirror_mode": {
        "name": "ipython",
        "version": "3"
      },
      "file_extension": ".py",
      "mimetype": "text/x-python",
      "nbconvert_exporter": "python",
      "pygments_lexer": "ipython3",
      "version": "3.12.10"
    }
  }
}